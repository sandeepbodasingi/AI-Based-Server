{
 "cells": [
  {
   "cell_type": "code",
   "execution_count": 1,
   "id": "97cc99df",
   "metadata": {},
   "outputs": [
    {
     "name": "stdout",
     "output_type": "stream",
     "text": [
      "Predicted class: 0\n",
      "Predicted class: 2\n",
      "Predicted class: 0\n"
     ]
    }
   ],
   "source": [
    "import socket\n",
    "\n",
    "# Define the server's IP address and port\n",
    "server_ip = '127.0.0.1'  # Replace with the server's IP address\n",
    "server_port = 12345       # Use the same port as the server\n",
    "\n",
    "client_socket = socket.socket(socket.AF_INET, socket.SOCK_DGRAM)\n",
    "\n",
    "# Prepare testing data line by line (comma-separated features)\n",
    "testing_data = [\n",
    "    \"5.1,3.5,1.4,0.2\",\n",
    "    \"6.2,3.4,5.4,2.3\",\n",
    "    \"4.9,3.1,1.5,0.1\",\n",
    "    # Add more testing data lines as needed\n",
    "]\n",
    "\n",
    "for data_line in testing_data:\n",
    "    # Send each line of testing data to the server\n",
    "    client_socket.sendto(data_line.encode('utf-8'), (server_ip, server_port))\n",
    "\n",
    "    # Receive and print the response from the server\n",
    "    response, _ = client_socket.recvfrom(1024)\n",
    "    print(response.decode('utf-8'))\n",
    "\n",
    "client_socket.close()\n"
   ]
  },
  {
   "cell_type": "code",
   "execution_count": null,
   "id": "aebe5a60",
   "metadata": {},
   "outputs": [],
   "source": []
  }
 ],
 "metadata": {
  "kernelspec": {
   "display_name": "Python 3 (ipykernel)",
   "language": "python",
   "name": "python3"
  },
  "language_info": {
   "codemirror_mode": {
    "name": "ipython",
    "version": 3
   },
   "file_extension": ".py",
   "mimetype": "text/x-python",
   "name": "python",
   "nbconvert_exporter": "python",
   "pygments_lexer": "ipython3",
   "version": "3.11.4"
  }
 },
 "nbformat": 4,
 "nbformat_minor": 5
}
